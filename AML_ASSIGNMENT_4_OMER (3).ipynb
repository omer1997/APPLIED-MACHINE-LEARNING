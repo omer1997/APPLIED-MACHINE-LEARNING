{
  "nbformat": 4,
  "nbformat_minor": 0,
  "metadata": {
    "colab": {
      "name": "AML_ASSIGNMENT_4.ipynb",
      "provenance": [],
      "collapsed_sections": []
    },
    "kernelspec": {
      "name": "python3",
      "display_name": "Python 3"
    },
    "language_info": {
      "name": "python"
    }
  },
  "cells": [
    {
      "cell_type": "code",
      "execution_count": 1,
      "metadata": {
        "id": "KeJ7ZwewdJsc"
      },
      "outputs": [],
      "source": [
        "# NAME : OMER BIN ALI BAJUBAIR\n",
        "# ZID  :  Z1905006\n",
        "# AML ASSIGNMENT 4 \n",
        "\n",
        "import pandas as pd\n",
        "from sklearn.preprocessing import LabelEncoder\n",
        "\n",
        "from sklearn.tree import DecisionTreeClassifier\n",
        "from sklearn.ensemble import RandomForestClassifier, GradientBoostingClassifier\n",
        "from sklearn.model_selection import train_test_split\n",
        "\n",
        "from sklearn.metrics import ( accuracy_score, roc_auc_score,\n",
        "                             precision_score, recall_score,\n",
        "                             classification_report\n",
        "                             )\n",
        "\n",
        "from imblearn.over_sampling import SMOTE, RandomOverSampler\n",
        "from imblearn.under_sampling import CondensedNearestNeighbour,EditedNearestNeighbours\n",
        "\n",
        "import warnings\n",
        "warnings.filterwarnings('ignore')\n",
        "\n",
        "import matplotlib.pyplot as plt\n",
        "plt.style.use('fivethirtyeight')\n",
        "plt.rcParams['figure.figsize'] = (10,6)\n",
        "plt.rcParams['figure.dpi'] = 140\n",
        "seed = 123\n",
        "\n",
        "data_orig = pd.read_excel('healthcare-dataset-stroke-data.xlsx')\n",
        "\n",
        "# Preprocessing\n",
        "\n",
        "data = data_orig.copy() # creating a copy of data\n",
        "\n",
        "# drop ID\n",
        "data.drop('id', axis=1, inplace=True)\n",
        "\n",
        "# drop NA\n",
        "\n",
        "data.dropna(inplace=True)\n",
        "\n",
        "\n",
        "# Label  encode the categorical columns\n",
        "\n",
        "# get all categorical columns\n",
        "cat_cols = data.select_dtypes('object').columns\n",
        "\n",
        "for col in cat_cols:\n",
        "    # break\n",
        "    encoder = LabelEncoder()\n",
        "    encoded = encoder.fit_transform(data[col])\n",
        "    data[col] = encoded\n",
        "    \n",
        "\n",
        "\n",
        "\n",
        "\n",
        "\n",
        "\n",
        "\n"
      ]
    },
    {
      "cell_type": "code",
      "source": [
        "# Q1. Train DT, RandomForest and Gradient Boosting\n",
        "\n",
        "target = 'stroke'\n",
        "\n",
        "train, test = train_test_split(data)\n",
        "\n",
        "def train_model(model, train, test, target, show_classwise_performance=True):\n",
        "    \n",
        "    xtrain, ytrain = train.drop(target, axis=1), train[target]\n",
        "    xtest, ytest = test.drop(target, axis=1), test[target]\n",
        "    \n",
        "    model.fit(xtrain,ytrain)\n",
        "    test_pred = model.predict(xtest)\n",
        "\n",
        "    if show_classwise_performance:\n",
        "        print(classification_report(ytest, test_pred)) \n",
        "    print('ROC AUC : ', roc_auc_score(ytest,test_pred))\n",
        "    print('Average Precision :', precision_score(ytest, test_pred, average = 'macro'))\n",
        "    return \n",
        "\n",
        "def built_tree_models(train, test, target, show_classwise_performance= True):\n",
        "    print('Working on Training...')\n",
        "    print('The test performance of model are as follows : ')\n",
        "    print('Decision tree :')\n",
        "    dt = DecisionTreeClassifier(max_depth = 10 ,random_state = seed )\n",
        "    train_model(dt, train, test, target, show_classwise_performance)\n",
        "    \n",
        "    print('Random Forest :')\n",
        "    rf = RandomForestClassifier(random_state = seed)\n",
        "    train_model(rf, train, test, target, show_classwise_performance)\n",
        "    \n",
        "    print('Gradient Boosting Tree :')\n",
        "    gb = GradientBoostingClassifier(random_state = seed)\n",
        "    train_model(gb, train, test, target, show_classwise_performance)\n",
        "    \n",
        "    return dt, rf, gb\n",
        "\n",
        "print('Q1 : Using Unbalanced Data for Model Building')\n",
        "dt, rf, gb = built_tree_models(train, test, target)\n",
        "print(\"=\"*50)"
      ],
      "metadata": {
        "colab": {
          "base_uri": "https://localhost:8080/"
        },
        "id": "_PKeJqmc5cT3",
        "outputId": "742b72d7-1290-48a3-cb7b-d84ec319a1a7"
      },
      "execution_count": 2,
      "outputs": [
        {
          "output_type": "stream",
          "name": "stdout",
          "text": [
            "Q1 : Using Unbalanced Data for Model Building\n",
            "Working on Training...\n",
            "The test performance of model are as follows : \n",
            "Decision tree :\n",
            "              precision    recall  f1-score   support\n",
            "\n",
            "           0       0.96      0.97      0.96      1174\n",
            "           1       0.07      0.06      0.06        54\n",
            "\n",
            "    accuracy                           0.93      1228\n",
            "   macro avg       0.51      0.51      0.51      1228\n",
            "weighted avg       0.92      0.93      0.92      1228\n",
            "\n",
            "ROC AUC :  0.5111678970282036\n",
            "Average Precision : 0.5142134425439653\n",
            "Random Forest :\n",
            "              precision    recall  f1-score   support\n",
            "\n",
            "           0       0.96      1.00      0.98      1174\n",
            "           1       0.00      0.00      0.00        54\n",
            "\n",
            "    accuracy                           0.96      1228\n",
            "   macro avg       0.48      0.50      0.49      1228\n",
            "weighted avg       0.91      0.96      0.93      1228\n",
            "\n",
            "ROC AUC :  0.4995741056218058\n",
            "Average Precision : 0.4779951100244499\n",
            "Gradient Boosting Tree :\n",
            "              precision    recall  f1-score   support\n",
            "\n",
            "           0       0.96      1.00      0.98      1174\n",
            "           1       0.25      0.02      0.03        54\n",
            "\n",
            "    accuracy                           0.95      1228\n",
            "   macro avg       0.60      0.51      0.51      1228\n",
            "weighted avg       0.93      0.95      0.94      1228\n",
            "\n",
            "ROC AUC :  0.5079815761246768\n",
            "Average Precision : 0.6033496732026145\n",
            "==================================================\n"
          ]
        }
      ]
    },
    {
      "cell_type": "code",
      "source": [
        "## Q2 Try different balancing techiniques and build the models\n",
        "xtrain, ytrain = train.drop(target, axis=1), train[target]\n",
        "\n",
        "print('Q2 : Using Various techiniques to balance the data for Model Building')\n",
        "print()\n",
        "for sampler in [RandomOverSampler(), EditedNearestNeighbours(), CondensedNearestNeighbour(),SMOTE() ]:\n",
        "    xtrain_sampled, ytrain_sampled = sampler.fit_resample(xtrain, ytrain)\n",
        "    train_sampled = pd.concat([xtrain_sampled, ytrain_sampled], axis=1)\n",
        "    \n",
        "    print(\"Balancing the Data using : \", type(sampler).__name__)\n",
        "    dt_sampled, rf_sampled, gb_sampled = built_tree_models(train_sampled, test,\n",
        "                                                     target, show_classwise_performance = False)\n",
        "    print(\"=\"*50)"
      ],
      "metadata": {
        "colab": {
          "base_uri": "https://localhost:8080/"
        },
        "id": "8bp-5cuf5j6F",
        "outputId": "02885cf0-ec36-4cf2-9b39-6f41e994dff4"
      },
      "execution_count": 3,
      "outputs": [
        {
          "output_type": "stream",
          "name": "stdout",
          "text": [
            "Q2 : Using Various techiniques to balance the data for Model Building\n",
            "\n",
            "Balancing the Data using :  RandomOverSampler\n",
            "Working on Training...\n",
            "The test performance of model are as follows : \n",
            "Decision tree :\n",
            "ROC AUC :  0.6145971354659601\n",
            "Average Precision : 0.5418502837063279\n",
            "Random Forest :\n",
            "ROC AUC :  0.5054262098555115\n",
            "Average Precision : 0.5282430213464696\n",
            "Gradient Boosting Tree :\n",
            "ROC AUC :  0.7043031106063474\n",
            "Average Precision : 0.5532916392363396\n",
            "==================================================\n",
            "Balancing the Data using :  EditedNearestNeighbours\n",
            "Working on Training...\n",
            "The test performance of model are as follows : \n",
            "Decision tree :\n",
            "ROC AUC :  0.5670389299009401\n",
            "Average Precision : 0.5524302985442882\n",
            "Random Forest :\n",
            "ROC AUC :  0.5071297873682883\n",
            "Average Precision : 0.5616475722858701\n",
            "Gradient Boosting Tree :\n",
            "ROC AUC :  0.5407596693797716\n",
            "Average Precision : 0.6186409550045914\n",
            "==================================================\n",
            "Balancing the Data using :  CondensedNearestNeighbour\n",
            "Working on Training...\n",
            "The test performance of model are as follows : \n",
            "Decision tree :\n",
            "ROC AUC :  0.5802258817591015\n",
            "Average Precision : 0.5356312175984307\n",
            "Random Forest :\n",
            "ROC AUC :  0.5280932550949586\n",
            "Average Precision : 0.5592186201163757\n",
            "Gradient Boosting Tree :\n",
            "ROC AUC :  0.5470376679916714\n",
            "Average Precision : 0.5954178932548317\n",
            "==================================================\n",
            "Balancing the Data using :  SMOTE\n",
            "Working on Training...\n",
            "The test performance of model are as follows : \n",
            "Decision tree :\n",
            "ROC AUC :  0.6254495551769828\n",
            "Average Precision : 0.5415875754961174\n",
            "Random Forest :\n",
            "ROC AUC :  0.5745946116474225\n",
            "Average Precision : 0.5546863255276091\n",
            "Gradient Boosting Tree :\n",
            "ROC AUC :  0.660783014701243\n",
            "Average Precision : 0.5514623839407877\n",
            "==================================================\n"
          ]
        }
      ]
    },
    {
      "cell_type": "code",
      "source": [
        "print('Q3 : Finding Important Features : ')\n",
        "rf_imp_vars = pd.Series(rf_sampled.feature_importances_,index =xtrain_sampled.columns  )\n",
        "gb_imp_vars = pd.Series(gb_sampled.feature_importances_,index =xtrain_sampled.columns  )\n",
        "gb_imp_vars.sort_values().plot.bar(title = 'Gradient Boosting - Important features')\n",
        "plt.show()\n",
        "rf_imp_vars.sort_values().plot.bar(title = 'Random Forest - Important features')\n",
        "plt.show()\n",
        "\n",
        "print(\"=\"*50)\n"
      ],
      "metadata": {
        "colab": {
          "base_uri": "https://localhost:8080/",
          "height": 738
        },
        "id": "7icnJN1N5ocd",
        "outputId": "42fbf8a4-a4af-4b47-e922-d5485faf3558"
      },
      "execution_count": 4,
      "outputs": [
        {
          "output_type": "stream",
          "name": "stdout",
          "text": [
            "Q3 : Finding Important Features : \n"
          ]
        },
        {
          "output_type": "display_data",
          "data": {
            "text/plain": [
              "<Figure size 432x288 with 1 Axes>"
            ],
            "image/png": "[encoded data removed]"
          },
          "metadata": {
            "needs_background": "light"
          }
        },
        {
          "output_type": "display_data",
          "data": {
            "text/plain": [
              "<Figure size 432x288 with 1 Axes>"
            ],
            "image/png": "[encoded data removed]"
          },
          "metadata": {
            "needs_background": "light"
          }
        },
        {
          "output_type": "stream",
          "name": "stdout",
          "text": [
            "==================================================\n"
          ]
        }
      ]
    },
    {
      "cell_type": "markdown",
      "source": [
        "'Q4 : Brief Report on Findings from Resampling experiment : '\n",
        "\n",
        "It can be clearly seen the performance using Oversampling Techiques is better\n",
        "when compared to undersampling techiniques because in under sampling we are using \n",
        "extremely small dataset to train ~200 rows, where as in oversample we are using ~7000 rows\n",
        "\n",
        "However, if the data set in imbalance then In such cases, you get a pretty high accuracy just by predicting the majority class, but you fail to capture the minority class, which is most often the point of creating the model in the first place. In a dataset with highly unbalanced classes, the classifier will always “predicts” the most common class without performing any analysis of the features and it will have a high accuracy rate, obviously not the correct one.\n",
        "\n",
        "The simplest implementation of over-sampling is to duplicate random records from the minority class, which can cause overfishing.\n",
        "\n",
        "In under-sampling, the simplest technique involves removing random records from the majority class, which can cause loss of information.\n",
        "\n",
        "Undersampling can be defined as removing some observations of the majority class. This is done until the majority and minority class is balanced out.\n",
        "\n",
        "Oversampling can be defined as adding more copies to the minority class. Oversampling can be a good choice when you don’t have a ton of data to work with.\n",
        "\n",
        "\n",
        "Random oversampling can be implemented using the RandomOverSampler class. The class can be defined and takes a sampling_strategy argument that can be set to “minority” to automatically balance the minority class with majority class or classes.\n",
        "\n",
        "EditedNearestNeighbours :  Undersample based on the edited nearest neighbour method. This method will clean the database by removing samples close to the decision boundary.\n",
        "\n",
        "\n",
        "Condensed Nearest Neighbors, or CNN for short, is an undersampling technique that seeks a subset of a collection of samples that results in no loss in model performance, referred to as a minimal consistent set.\n",
        "\n",
        "\n",
        "SMOTE works by selecting examples that are close in the feature space, drawing a line between the examples in the feature space and drawing a new sample at a point along that line.\n",
        "\n",
        "\n",
        "\n"
      ],
      "metadata": {
        "id": "-E2dBD7U5rIA"
      }
    },
    {
      "cell_type": "code",
      "source": [
        ""
      ],
      "metadata": {
        "id": "xVRWtnuC-GjR"
      },
      "execution_count": 4,
      "outputs": []
    },
    {
      "cell_type": "code",
      "source": [
        ""
      ],
      "metadata": {
        "id": "r3EJpwfc-GhG"
      },
      "execution_count": 4,
      "outputs": []
    }
  ]
}
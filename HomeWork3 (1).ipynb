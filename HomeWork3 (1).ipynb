{
  "cells": [
    {
      "cell_type": "code",
      "execution_count": 20,
      "metadata": {
        "id": "v3KAfpJorc9L"
      },
      "outputs": [],
      "source": [
        "#data manipulation library\n",
        "import pandas as pd\n",
        "import numpy as np\n",
        "\n",
        "\n",
        "#plotting libraries\n",
        "import matplotlib.pyplot as plt\n",
        "plt.style.use('ggplot')\n",
        "import seaborn as sns\n",
        "\n",
        "#modelling libraries\n",
        "from sklearn.model_selection import GridSearchCV\n",
        "from sklearn.linear_model import LogisticRegression\n",
        "from sklearn.tree import DecisionTreeClassifier\n",
        "from sklearn.metrics import accuracy_score\n",
        "\n",
        "# generating polynomial features\n",
        "from sklearn.preprocessing import PolynomialFeatures\n",
        "\n",
        "\n",
        "import warnings\n",
        "warnings.filterwarnings(\"ignore\")"
      ]
    },
    {
      "cell_type": "code",
      "source": [
        "import pandas as pd\n",
        "\n",
        "desc = pd.read_csv('description.csv')\n",
        "\n",
        "name_mapper = {i:j for i,j in zip(desc['Nr'], desc['Name'])}\n",
        "\n",
        "train = pd.read_csv('http://kdd.ics.uci.edu/databases/tic/ticdata2000.txt', sep = '\\t')\n",
        "\n",
        "test = pd.read_csv('http://kdd.ics.uci.edu/databases/tic/ticeval2000.txt', sep = '\\t')\n",
        "target = pd.read_csv('http://kdd.ics.uci.edu/databases/tic/tictgts2000.txt', )\n",
        "\n",
        "\n",
        "\n",
        "train.columns = range(1,len(train.columns)+1)\n",
        "test.columns = range(1,len(test.columns)+1)\n",
        "\n",
        "\n",
        "train.columns = train.columns.map(name_mapper)\n",
        "\n",
        "test.columns = test.columns.map(name_mapper)\n",
        "test['CARAVAN'] = target\n",
        "\n",
        "train.to_csv('train.csv', index=False)\n",
        "test.to_csv('test.csv', index=False)"
      ],
      "metadata": {
        "id": "xv2Rw1eVVC4-"
      },
      "execution_count": 21,
      "outputs": []
    },
    {
      "cell_type": "code",
      "execution_count": 22,
      "metadata": {
        "id": "-ljjnz1src9M"
      },
      "outputs": [],
      "source": [
        "# reading train and test data\n",
        "train = pd.read_csv('train.csv')\n",
        "test = pd.read_csv('test.csv')"
      ]
    },
    {
      "cell_type": "code",
      "execution_count": 23,
      "metadata": {
        "id": "Xq9D1frerc9M",
        "colab": {
          "base_uri": "https://localhost:8080/",
          "height": 297
        },
        "outputId": "bc4e2910-5003-4c58-e44b-f0241b2ac4c8"
      },
      "outputs": [
        {
          "output_type": "execute_result",
          "data": {
            "text/html": [
              "\n",
              "  <div id=\"df-33ad3080-bca4-4d44-a78a-34f7716b8505\">\n",
              "    <div class=\"colab-df-container\">\n",
              "      <div>\n",
              "<style scoped>\n",
              "    .dataframe tbody tr th:only-of-type {\n",
              "        vertical-align: middle;\n",
              "    }\n",
              "\n",
              "    .dataframe tbody tr th {\n",
              "        vertical-align: top;\n",
              "    }\n",
              "\n",
              "    .dataframe thead th {\n",
              "        text-align: right;\n",
              "    }\n",
              "</style>\n",
              "<table border=\"1\" class=\"dataframe\">\n",
              "  <thead>\n",
              "    <tr style=\"text-align: right;\">\n",
              "      <th></th>\n",
              "      <th>MOSTYPE</th>\n",
              "      <th>MAANTHUI</th>\n",
              "      <th>MGEMOMV</th>\n",
              "      <th>MGEMLEEF</th>\n",
              "      <th>MOSHOOFD</th>\n",
              "      <th>MGODRK</th>\n",
              "      <th>MGODPR</th>\n",
              "      <th>MGODOV</th>\n",
              "      <th>MGODGE</th>\n",
              "      <th>MRELGE</th>\n",
              "      <th>...</th>\n",
              "      <th>APERSONG</th>\n",
              "      <th>AGEZONG</th>\n",
              "      <th>AWAOREG</th>\n",
              "      <th>ABRAND</th>\n",
              "      <th>AZEILPL</th>\n",
              "      <th>APLEZIER</th>\n",
              "      <th>AFIETS</th>\n",
              "      <th>AINBOED</th>\n",
              "      <th>ABYSTAND</th>\n",
              "      <th>CARAVAN</th>\n",
              "    </tr>\n",
              "  </thead>\n",
              "  <tbody>\n",
              "    <tr>\n",
              "      <th>0</th>\n",
              "      <td>37</td>\n",
              "      <td>1</td>\n",
              "      <td>2</td>\n",
              "      <td>2</td>\n",
              "      <td>8</td>\n",
              "      <td>1</td>\n",
              "      <td>4</td>\n",
              "      <td>1</td>\n",
              "      <td>4</td>\n",
              "      <td>6</td>\n",
              "      <td>...</td>\n",
              "      <td>0</td>\n",
              "      <td>0</td>\n",
              "      <td>0</td>\n",
              "      <td>1</td>\n",
              "      <td>0</td>\n",
              "      <td>0</td>\n",
              "      <td>0</td>\n",
              "      <td>0</td>\n",
              "      <td>0</td>\n",
              "      <td>0</td>\n",
              "    </tr>\n",
              "    <tr>\n",
              "      <th>1</th>\n",
              "      <td>37</td>\n",
              "      <td>1</td>\n",
              "      <td>2</td>\n",
              "      <td>2</td>\n",
              "      <td>8</td>\n",
              "      <td>0</td>\n",
              "      <td>4</td>\n",
              "      <td>2</td>\n",
              "      <td>4</td>\n",
              "      <td>3</td>\n",
              "      <td>...</td>\n",
              "      <td>0</td>\n",
              "      <td>0</td>\n",
              "      <td>0</td>\n",
              "      <td>1</td>\n",
              "      <td>0</td>\n",
              "      <td>0</td>\n",
              "      <td>0</td>\n",
              "      <td>0</td>\n",
              "      <td>0</td>\n",
              "      <td>0</td>\n",
              "    </tr>\n",
              "    <tr>\n",
              "      <th>2</th>\n",
              "      <td>9</td>\n",
              "      <td>1</td>\n",
              "      <td>3</td>\n",
              "      <td>3</td>\n",
              "      <td>3</td>\n",
              "      <td>2</td>\n",
              "      <td>3</td>\n",
              "      <td>2</td>\n",
              "      <td>4</td>\n",
              "      <td>5</td>\n",
              "      <td>...</td>\n",
              "      <td>0</td>\n",
              "      <td>0</td>\n",
              "      <td>0</td>\n",
              "      <td>1</td>\n",
              "      <td>0</td>\n",
              "      <td>0</td>\n",
              "      <td>0</td>\n",
              "      <td>0</td>\n",
              "      <td>0</td>\n",
              "      <td>0</td>\n",
              "    </tr>\n",
              "    <tr>\n",
              "      <th>3</th>\n",
              "      <td>40</td>\n",
              "      <td>1</td>\n",
              "      <td>4</td>\n",
              "      <td>2</td>\n",
              "      <td>10</td>\n",
              "      <td>1</td>\n",
              "      <td>4</td>\n",
              "      <td>1</td>\n",
              "      <td>4</td>\n",
              "      <td>7</td>\n",
              "      <td>...</td>\n",
              "      <td>0</td>\n",
              "      <td>0</td>\n",
              "      <td>0</td>\n",
              "      <td>1</td>\n",
              "      <td>0</td>\n",
              "      <td>0</td>\n",
              "      <td>0</td>\n",
              "      <td>0</td>\n",
              "      <td>0</td>\n",
              "      <td>0</td>\n",
              "    </tr>\n",
              "    <tr>\n",
              "      <th>4</th>\n",
              "      <td>23</td>\n",
              "      <td>1</td>\n",
              "      <td>2</td>\n",
              "      <td>1</td>\n",
              "      <td>5</td>\n",
              "      <td>0</td>\n",
              "      <td>5</td>\n",
              "      <td>0</td>\n",
              "      <td>5</td>\n",
              "      <td>0</td>\n",
              "      <td>...</td>\n",
              "      <td>0</td>\n",
              "      <td>0</td>\n",
              "      <td>0</td>\n",
              "      <td>0</td>\n",
              "      <td>0</td>\n",
              "      <td>0</td>\n",
              "      <td>0</td>\n",
              "      <td>0</td>\n",
              "      <td>0</td>\n",
              "      <td>0</td>\n",
              "    </tr>\n",
              "  </tbody>\n",
              "</table>\n",
              "<p>5 rows × 86 columns</p>\n",
              "</div>\n",
              "      <button class=\"colab-df-convert\" onclick=\"convertToInteractive('df-33ad3080-bca4-4d44-a78a-34f7716b8505')\"\n",
              "              title=\"Convert this dataframe to an interactive table.\"\n",
              "              style=\"display:none;\">\n",
              "        \n",
              "  <svg xmlns=\"http://www.w3.org/2000/svg\" height=\"24px\"viewBox=\"0 0 24 24\"\n",
              "       width=\"24px\">\n",
              "    <path d=\"M0 0h24v24H0V0z\" fill=\"none\"/>\n",
              "    <path d=\"M18.56 5.44l.94 2.06.94-2.06 2.06-.94-2.06-.94-.94-2.06-.94 2.06-2.06.94zm-11 1L8.5 8.5l.94-2.06 2.06-.94-2.06-.94L8.5 2.5l-.94 2.06-2.06.94zm10 10l.94 2.06.94-2.06 2.06-.94-2.06-.94-.94-2.06-.94 2.06-2.06.94z\"/><path d=\"M17.41 7.96l-1.37-1.37c-.4-.4-.92-.59-1.43-.59-.52 0-1.04.2-1.43.59L10.3 9.45l-7.72 7.72c-.78.78-.78 2.05 0 2.83L4 21.41c.39.39.9.59 1.41.59.51 0 1.02-.2 1.41-.59l7.78-7.78 2.81-2.81c.8-.78.8-2.07 0-2.86zM5.41 20L4 18.59l7.72-7.72 1.47 1.35L5.41 20z\"/>\n",
              "  </svg>\n",
              "      </button>\n",
              "      \n",
              "  <style>\n",
              "    .colab-df-container {\n",
              "      display:flex;\n",
              "      flex-wrap:wrap;\n",
              "      gap: 12px;\n",
              "    }\n",
              "\n",
              "    .colab-df-convert {\n",
              "      background-color: #E8F0FE;\n",
              "      border: none;\n",
              "      border-radius: 50%;\n",
              "      cursor: pointer;\n",
              "      display: none;\n",
              "      fill: #1967D2;\n",
              "      height: 32px;\n",
              "      padding: 0 0 0 0;\n",
              "      width: 32px;\n",
              "    }\n",
              "\n",
              "    .colab-df-convert:hover {\n",
              "      background-color: #E2EBFA;\n",
              "      box-shadow: 0px 1px 2px rgba(60, 64, 67, 0.3), 0px 1px 3px 1px rgba(60, 64, 67, 0.15);\n",
              "      fill: #174EA6;\n",
              "    }\n",
              "\n",
              "    [theme=dark] .colab-df-convert {\n",
              "      background-color: #3B4455;\n",
              "      fill: #D2E3FC;\n",
              "    }\n",
              "\n",
              "    [theme=dark] .colab-df-convert:hover {\n",
              "      background-color: #434B5C;\n",
              "      box-shadow: 0px 1px 3px 1px rgba(0, 0, 0, 0.15);\n",
              "      filter: drop-shadow(0px 1px 2px rgba(0, 0, 0, 0.3));\n",
              "      fill: #FFFFFF;\n",
              "    }\n",
              "  </style>\n",
              "\n",
              "      <script>\n",
              "        const buttonEl =\n",
              "          document.querySelector('#df-33ad3080-bca4-4d44-a78a-34f7716b8505 button.colab-df-convert');\n",
              "        buttonEl.style.display =\n",
              "          google.colab.kernel.accessAllowed ? 'block' : 'none';\n",
              "\n",
              "        async function convertToInteractive(key) {\n",
              "          const element = document.querySelector('#df-33ad3080-bca4-4d44-a78a-34f7716b8505');\n",
              "          const dataTable =\n",
              "            await google.colab.kernel.invokeFunction('convertToInteractive',\n",
              "                                                     [key], {});\n",
              "          if (!dataTable) return;\n",
              "\n",
              "          const docLinkHtml = 'Like what you see? Visit the ' +\n",
              "            '<a target=\"_blank\" href=https://colab.research.google.com/notebooks/data_table.ipynb>data table notebook</a>'\n",
              "            + ' to learn more about interactive tables.';\n",
              "          element.innerHTML = '';\n",
              "          dataTable['output_type'] = 'display_data';\n",
              "          await google.colab.output.renderOutput(dataTable, element);\n",
              "          const docLink = document.createElement('div');\n",
              "          docLink.innerHTML = docLinkHtml;\n",
              "          element.appendChild(docLink);\n",
              "        }\n",
              "      </script>\n",
              "    </div>\n",
              "  </div>\n",
              "  "
            ],
            "text/plain": [
              "   MOSTYPE  MAANTHUI  MGEMOMV  MGEMLEEF  MOSHOOFD  MGODRK  MGODPR  MGODOV  \\\n",
              "0       37         1        2         2         8       1       4       1   \n",
              "1       37         1        2         2         8       0       4       2   \n",
              "2        9         1        3         3         3       2       3       2   \n",
              "3       40         1        4         2        10       1       4       1   \n",
              "4       23         1        2         1         5       0       5       0   \n",
              "\n",
              "   MGODGE  MRELGE  ...  APERSONG  AGEZONG  AWAOREG  ABRAND  AZEILPL  APLEZIER  \\\n",
              "0       4       6  ...         0        0        0       1        0         0   \n",
              "1       4       3  ...         0        0        0       1        0         0   \n",
              "2       4       5  ...         0        0        0       1        0         0   \n",
              "3       4       7  ...         0        0        0       1        0         0   \n",
              "4       5       0  ...         0        0        0       0        0         0   \n",
              "\n",
              "   AFIETS  AINBOED  ABYSTAND  CARAVAN  \n",
              "0       0        0         0        0  \n",
              "1       0        0         0        0  \n",
              "2       0        0         0        0  \n",
              "3       0        0         0        0  \n",
              "4       0        0         0        0  \n",
              "\n",
              "[5 rows x 86 columns]"
            ]
          },
          "metadata": {},
          "execution_count": 23
        }
      ],
      "source": [
        "train.head()"
      ]
    },
    {
      "cell_type": "markdown",
      "metadata": {
        "id": "X4DJ1_eDrc9M"
      },
      "source": [
        "### 1. Which features are relevant for the prediction task? Select top 10 features based on your understanding. Show visualizations or statistics to support your selection. [2 0 Marks]"
      ]
    },
    {
      "cell_type": "code",
      "execution_count": 24,
      "metadata": {
        "id": "I4PaUQ-4rc9N",
        "colab": {
          "base_uri": "https://localhost:8080/",
          "height": 466
        },
        "outputId": "66c69053-04fb-40bc-fb69-9ddfdc7a1590"
      },
      "outputs": [
        {
          "output_type": "display_data",
          "data": {
            "image/png": "[encoded data removed]",
            "text/plain": [
              "<Figure size 720x576 with 1 Axes>"
            ]
          },
          "metadata": {}
        }
      ],
      "source": [
        "# lets look at the target\n",
        "train['CARAVAN'].value_counts().plot.pie(autopct='%.2f', figsize = (10,8))\n",
        "plt.show()"
      ]
    },
    {
      "cell_type": "markdown",
      "metadata": {
        "id": "9MFBB_ymrc9N"
      },
      "source": [
        "Imbalanced dataset(even if we predict all to be '0' we will get 94% accuracy) "
      ]
    },
    {
      "cell_type": "code",
      "execution_count": 25,
      "metadata": {
        "id": "TfcrIOFyrc9N"
      },
      "outputs": [],
      "source": [
        "# sns.pairplot(train, hue=\"CARAVAN\", height=2, diag_kind=\"kde\");"
      ]
    },
    {
      "cell_type": "code",
      "execution_count": 26,
      "metadata": {
        "id": "gd-wwgWgrc9O"
      },
      "outputs": [],
      "source": [
        "# f, ax = plt.subplots(figsize=(15, 12))\n",
        "# # Draw the heatmap with the mask and correct aspect ratio\n",
        "# sns.heatmap(cor_mat,linewidths=.5, ax=ax);"
      ]
    },
    {
      "cell_type": "code",
      "execution_count": 27,
      "metadata": {
        "id": "ZzSxsVKzrc9O",
        "colab": {
          "base_uri": "https://localhost:8080/"
        },
        "outputId": "ac474048-bf57-45c5-e3df-4220272fd274"
      },
      "outputs": [
        {
          "output_type": "execute_result",
          "data": {
            "text/plain": [
              "CARAVAN     1.000000\n",
              "PPERSAUT    0.150969\n",
              "APERSAUT    0.144249\n",
              "APLEZIER    0.105697\n",
              "PWAPART     0.096434\n",
              "MKOOPKLA    0.095915\n",
              "PBRAND      0.094543\n",
              "PPLEZIER    0.091359\n",
              "MOPLLAAG    0.090525\n",
              "MINKGEM     0.090193\n",
              "AWAPART     0.089358\n",
              "dtype: float64"
            ]
          },
          "metadata": {},
          "execution_count": 27
        }
      ],
      "source": [
        "# find top variables based on correlation\n",
        "\n",
        "train.corrwith(train[\"CARAVAN\"]).abs().sort_values(ascending=False).head(11)"
      ]
    },
    {
      "cell_type": "code",
      "execution_count": 28,
      "metadata": {
        "id": "_hCrtIAvrc9O"
      },
      "outputs": [],
      "source": [
        "xtrain = train.drop('CARAVAN', axis=1)\n",
        "ytrain = train['CARAVAN'].copy()\n",
        "\n",
        "xtest = test.drop('CARAVAN', axis=1)\n",
        "ytest = test['CARAVAN'].copy()"
      ]
    },
    {
      "cell_type": "code",
      "execution_count": 28,
      "metadata": {
        "id": "RNKOHlnPrc9O"
      },
      "outputs": [],
      "source": [
        ""
      ]
    },
    {
      "cell_type": "markdown",
      "metadata": {
        "id": "0sj2-FXirc9O"
      },
      "source": [
        "### 2. Train a Logistic Regression (LogReg) model with L1 regularization. Find the best model using grid search on C values. Analyze which features have nonzero coefficients for the best model. Are they in synch with your selected features from question 1? [30 Marks]"
      ]
    },
    {
      "cell_type": "code",
      "execution_count": 29,
      "metadata": {
        "id": "IZ-lwaymrc9O"
      },
      "outputs": [],
      "source": [
        "def lr_model_with_gridsearch(xtrain, ytrain, xtest, ytest, c_params = np.logspace(-3,3,7), plot_importance=False ):\n",
        "    grid={\"C\":c_params }\n",
        "\n",
        "    logreg=LogisticRegression(penalty='l1', solver = 'liblinear')\n",
        "    logreg_cv=GridSearchCV(logreg,grid,cv=10)\n",
        "    logreg_cv.fit(xtrain, ytrain)\n",
        "\n",
        "    print(\"tuned hyerparameters :(best parameters) \",logreg_cv.best_params_)\n",
        "    print(\"train accuracy :\",logreg_cv.best_score_)\n",
        "    \n",
        "    logreg_test_preds = logreg_cv.predict(xtest)\n",
        "    print(\"test accuracy : \",accuracy_score(ytest, logreg_test_preds))\n",
        "    \n",
        "    if plot_importance:\n",
        "        best_model = logreg_cv.best_estimator_\n",
        "        feature_coef = pd.Series(best_model.coef_.ravel(), index = xtrain.columns)\n",
        "        feature_coef.abs().sort_values(ascending=False)[:10].plot.bar(title = 'Top Ten - Features')\n",
        "        plt.show()\n",
        "    return \n",
        "    "
      ]
    },
    {
      "cell_type": "code",
      "execution_count": 30,
      "metadata": {
        "id": "wLkCPgKmrc9O",
        "colab": {
          "base_uri": "https://localhost:8080/",
          "height": 379
        },
        "outputId": "2b0ea24d-9792-40ab-b1ba-acaf9ac49419"
      },
      "outputs": [
        {
          "output_type": "stream",
          "name": "stdout",
          "text": [
            "tuned hyerparameters :(best parameters)  {'C': 0.001}\n",
            "train accuracy : 0.9402165007397452\n",
            "test accuracy :  0.9404851212803201\n"
          ]
        },
        {
          "output_type": "display_data",
          "data": {
            "image/png": "[encoded data removed]",
            "text/plain": [
              "<Figure size 432x288 with 1 Axes>"
            ]
          },
          "metadata": {}
        }
      ],
      "source": [
        "lr_model_with_gridsearch(xtrain, ytrain, xtest, ytest, plot_importance=True )"
      ]
    },
    {
      "cell_type": "markdown",
      "metadata": {
        "id": "a8VIP50krc9P"
      },
      "source": [
        "Among top ten we selected One is matching that is :\n",
        "### MKOOPKLA    "
      ]
    },
    {
      "cell_type": "markdown",
      "metadata": {
        "id": "1RnzQz4Hrc9P"
      },
      "source": [
        "### 3. Generate polynomial features and use LogReg again with L1. See if accuracy increase. [20 Marks]"
      ]
    },
    {
      "cell_type": "code",
      "execution_count": 31,
      "metadata": {
        "id": "5PDHg9QZrc9P",
        "colab": {
          "base_uri": "https://localhost:8080/"
        },
        "outputId": "44e8d755-88c7-41f7-9b59-6ba64508a0f5"
      },
      "outputs": [
        {
          "output_type": "execute_result",
          "data": {
            "text/plain": [
              "PolynomialFeatures(interaction_only=True)"
            ]
          },
          "metadata": {},
          "execution_count": 31
        }
      ],
      "source": [
        "poly = PolynomialFeatures(interaction_only=True, degree =2)\n",
        "poly"
      ]
    },
    {
      "cell_type": "code",
      "execution_count": 32,
      "metadata": {
        "id": "04O_FKGprc9P"
      },
      "outputs": [],
      "source": [
        "xtrain_poly = poly.fit_transform(xtrain)\n",
        "xtrain_poly = pd.DataFrame(xtrain_poly , columns = poly.get_feature_names())"
      ]
    },
    {
      "cell_type": "code",
      "execution_count": 33,
      "metadata": {
        "id": "WFKUYzQErc9P"
      },
      "outputs": [],
      "source": [
        "xtest_poly = poly.transform(xtest)\n",
        "xtest_poly = pd.DataFrame(xtest_poly , columns = poly.get_feature_names())"
      ]
    },
    {
      "cell_type": "code",
      "execution_count": 34,
      "metadata": {
        "id": "pSVTQdB6rc9P",
        "colab": {
          "base_uri": "https://localhost:8080/"
        },
        "outputId": "e65460c3-1734-4400-c191-b057d406af11"
      },
      "outputs": [
        {
          "output_type": "stream",
          "name": "stdout",
          "text": [
            "tuned hyerparameters :(best parameters)  {'C': 0.001}\n",
            "train accuracy : 0.9402165007397452\n",
            "test accuracy :  0.9404851212803201\n"
          ]
        }
      ],
      "source": [
        "# using best C from Q2\n",
        "lr_model_with_gridsearch(xtrain_poly, ytrain, xtest_poly, ytest, c_params = [0.001],plot_importance=False )"
      ]
    },
    {
      "cell_type": "markdown",
      "metadata": {
        "id": "yF_CRJZrrc9P"
      },
      "source": [
        "Accuracy Did not change with addition of polynomial features"
      ]
    },
    {
      "cell_type": "markdown",
      "metadata": {
        "id": "GyFfBexSrc9Q"
      },
      "source": [
        "\n",
        "### 4. Train a Decision Tree and see if you can get a better result. Show feature importance from the decision tree. Are they in synch with the features from Q1 and Q2? [30 Marks]"
      ]
    },
    {
      "cell_type": "code",
      "execution_count": 35,
      "metadata": {
        "id": "7sNKGqGTrc9Q"
      },
      "outputs": [],
      "source": [
        "def decision_tree_model(xtrain, ytrain, xtest, ytest, params = {},plot_importance=False ):\n",
        "    \n",
        "    dt = DecisionTreeClassifier( **params)\n",
        "    dt.fit(xtrain, ytrain)\n",
        "\n",
        "    print(\"train accuracy :\",dt.score(xtrain, ytrain))\n",
        "    \n",
        "    dt_test_preds = dt.predict(xtest)\n",
        "    print(\"test accuracy : \",accuracy_score(ytest, dt_test_preds))\n",
        "    \n",
        "    if plot_importance:\n",
        "        feature_coef = pd.Series(dt.feature_importances_, index = xtrain.columns)\n",
        "        feature_coef.abs().sort_values(ascending=False)[:10].plot.bar(title = 'Top Ten - Features')\n",
        "        plt.show()\n",
        "    return "
      ]
    },
    {
      "cell_type": "code",
      "execution_count": 36,
      "metadata": {
        "id": "jntZps2Orc9Q",
        "colab": {
          "base_uri": "https://localhost:8080/"
        },
        "outputId": "c14057ec-1f42-4a88-99e8-3953c76e5295"
      },
      "outputs": [
        {
          "output_type": "stream",
          "name": "stdout",
          "text": [
            "train accuracy : 0.9914104105823741\n",
            "test accuracy :  0.8917229307326832\n"
          ]
        }
      ],
      "source": [
        "decision_tree_model(xtrain, ytrain, xtest, ytest,plot_importance=False )"
      ]
    },
    {
      "cell_type": "markdown",
      "metadata": {
        "id": "aZssPB-0rc9Q"
      },
      "source": [
        "from the looks of it, it seems like decision tree performance is bad on test data."
      ]
    },
    {
      "cell_type": "markdown",
      "metadata": {
        "id": "fa3hqyV0rc9Q"
      },
      "source": [
        "but if you ask me i would argue that logictic regression is just predicting all zeroes thats why it has 94% accuracy while decision tree is trying to build more generalized model.\n",
        "\n",
        "default decision tree overfits on train, best we should add some params"
      ]
    },
    {
      "cell_type": "code",
      "execution_count": 37,
      "metadata": {
        "id": "ZHbBu5gprc9Q",
        "colab": {
          "base_uri": "https://localhost:8080/"
        },
        "outputId": "de70be88-db35-42e8-bf36-081613661339"
      },
      "outputs": [
        {
          "output_type": "stream",
          "name": "stdout",
          "text": [
            "train accuracy : 0.9592853461604536\n",
            "test accuracy :  0.9209802450612653\n"
          ]
        }
      ],
      "source": [
        "decision_tree_model(xtrain, ytrain, xtest, ytest,params = {'max_depth':10}, plot_importance=False )"
      ]
    },
    {
      "cell_type": "markdown",
      "metadata": {
        "id": "-LBsOK7trc9Q"
      },
      "source": [
        "By adding just one param which prunes the tree and avoid it to overfit we have improved our test performance"
      ]
    },
    {
      "cell_type": "code",
      "execution_count": 37,
      "metadata": {
        "id": "3mRTCe9Brc9Q"
      },
      "outputs": [],
      "source": [
        ""
      ]
    },
    {
      "cell_type": "code",
      "execution_count": 37,
      "metadata": {
        "id": "Mn6ikE_4rc9Q"
      },
      "outputs": [],
      "source": [
        ""
      ]
    },
    {
      "cell_type": "code",
      "execution_count": 37,
      "metadata": {
        "id": "jrlusp4Erc9Q"
      },
      "outputs": [],
      "source": [
        ""
      ]
    }
  ],
  "metadata": {
    "kernelspec": {
      "display_name": "Python 3",
      "language": "python",
      "name": "python3"
    },
    "language_info": {
      "codemirror_mode": {
        "name": "ipython",
        "version": 3
      },
      "file_extension": ".py",
      "mimetype": "text/x-python",
      "name": "python",
      "nbconvert_exporter": "python",
      "pygments_lexer": "ipython3",
      "version": "3.8.3"
    },
    "colab": {
      "name": "HomeWork3.ipynb",
      "provenance": [],
      "collapsed_sections": []
    }
  },
  "nbformat": 4,
  "nbformat_minor": 0
}